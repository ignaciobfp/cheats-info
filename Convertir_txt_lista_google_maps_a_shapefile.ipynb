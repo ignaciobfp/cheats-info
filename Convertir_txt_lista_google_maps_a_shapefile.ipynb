{
 "cells": [
  {
   "cell_type": "code",
   "execution_count": 9,
   "id": "351fec54",
   "metadata": {},
   "outputs": [
    {
     "name": "stdout",
     "output_type": "stream",
     "text": [
      "Archivo SHP creado: marcadores.shp\n"
     ]
    }
   ],
   "source": [
    "import re\n",
    "import geopandas as gpd\n",
    "from shapely.geometry import Point\n",
    "\n",
    "# Leer el archivo de texto\n",
    "file_path = 'lista_lia_gmaps.txt'\n",
    "\n",
    "with open(file_path, 'r', encoding='utf-8') as file:\n",
    "    lines = file.readlines()\n",
    "\n",
    "# Expresión regular para encontrar coordenadas entre paréntesis\n",
    "coord_pattern = re.compile(r'\\((-?\\d+\\.\\d+),\\s*(-?\\d+\\.\\d+)\\)')\n",
    "\n",
    "data = []\n",
    "i = 0\n",
    "marker_count = 1\n",
    "\n",
    "while i < len(lines):\n",
    "    line = lines[i].strip()\n",
    "    match = coord_pattern.search(line)\n",
    "    \n",
    "    if match:\n",
    "        lat = float(match.group(1))\n",
    "        lon = float(match.group(2))\n",
    "        name = None\n",
    "        \n",
    "        # Buscar el nombre en las siguientes líneas válidas\n",
    "        for j in range(i + 1, len(lines)):\n",
    "            next_line = lines[j].strip()\n",
    "            if len(next_line) >= 3 and next_line != \"Marcador\" and not coord_pattern.search(next_line):\n",
    "                name = next_line\n",
    "                break\n",
    "\n",
    "        # Si no se encuentra un nombre válido, asignar un nombre genérico\n",
    "        if not name:\n",
    "            name = f'Marcador_{marker_count}'\n",
    "            marker_count += 1\n",
    "        \n",
    "        data.append((name, lat, lon))\n",
    "    \n",
    "    i += 1\n",
    "\n",
    "# Crear un GeoDataFrame con la columna de geometría\n",
    "gdf = gpd.GeoDataFrame(data, columns=['name', 'latitude', 'longitude'], geometry=gpd.points_from_xy([x[2] for x in data], [x[1] for x in data]))\n",
    "\n",
    "# Especificar la proyección EPSG:4326\n",
    "gdf.set_crs(epsg=4326, inplace=True)\n",
    "\n",
    "# Guardar el GeoDataFrame en un archivo SHP\n",
    "output_file = 'marcadores.shp'\n",
    "gdf.to_file(output_file, driver='ESRI Shapefile')\n",
    "\n",
    "print(f'Archivo SHP creado: {output_file}')\n"
   ]
  }
 ],
 "metadata": {
  "kernelspec": {
   "display_name": "Python 3 (ipykernel)",
   "language": "python",
   "name": "python3"
  },
  "language_info": {
   "codemirror_mode": {
    "name": "ipython",
    "version": 3
   },
   "file_extension": ".py",
   "mimetype": "text/x-python",
   "name": "python",
   "nbconvert_exporter": "python",
   "pygments_lexer": "ipython3",
   "version": "3.9.15"
  }
 },
 "nbformat": 4,
 "nbformat_minor": 5
}
